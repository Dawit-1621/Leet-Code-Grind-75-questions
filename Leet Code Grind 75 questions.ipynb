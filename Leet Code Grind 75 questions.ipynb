{
 "cells": [
  {
   "cell_type": "markdown",
   "id": "eba2997f",
   "metadata": {},
   "source": [
    "### Leet Code Grind 75 questions"
   ]
  },
  {
   "cell_type": "markdown",
   "id": "9da85173",
   "metadata": {},
   "source": [
    "#### 1. Two Sum <br>\n",
    "\n",
    "Given an array of integers `nums` and an integer `target`, return indices of the two numbers such that they add up to target.<br>\n",
    "You may assume that each input would have exactly one solution, and you may not use the same element twice. <br>\n",
    "You can return the answer in any order.<br>\n",
    "**Example 1:**<br>\n",
    "\n",
    "**Input:** nums = [2,7,11,15], target = 9<br>\n",
    "**Output:** [0,1]<br>\n",
    "**Explanation:** Because nums[0] + nums[1] == 9, we return [0, 1].<br>\n",
    "\n",
    "**Example 2:**<br>\n",
    "\n",
    "**Input:** nums = [3,2,4], target = 6<br>\n",
    "**Output:** [1,2]<br>\n",
    "\n",
    "**Example 3:**<br>\n",
    "\n",
    "**Input:** nums = [3,3], target = 6<br>\n",
    "**Output:** [0,1]<br>"
   ]
  },
  {
   "cell_type": "code",
   "execution_count": 9,
   "id": "0c4506bf",
   "metadata": {},
   "outputs": [
    {
     "data": {
      "text/plain": [
       "[1, 2]"
      ]
     },
     "execution_count": 9,
     "metadata": {},
     "output_type": "execute_result"
    }
   ],
   "source": [
    "def twoSum(nums, target):\n",
    "    preMap = {}\n",
    "    for i, n in enumerate (nums):\n",
    "        deff = target - n\n",
    "        if deff in preMap:\n",
    "            return [preMap[deff], i]\n",
    "        preMap[n] = i\n",
    "    return\n",
    "twoSum(nums = [3,2,4], target = 6)"
   ]
  },
  {
   "cell_type": "markdown",
   "id": "cecc4312",
   "metadata": {},
   "source": [
    "#### 1. Best Time to Buy and Sell Stock <br>\n"
   ]
  },
  {
   "cell_type": "code",
   "execution_count": 10,
   "id": "b951d66a",
   "metadata": {},
   "outputs": [],
   "source": []
  },
  {
   "cell_type": "code",
   "execution_count": null,
   "id": "37c9e3ac",
   "metadata": {},
   "outputs": [],
   "source": []
  },
  {
   "cell_type": "code",
   "execution_count": null,
   "id": "26268909",
   "metadata": {},
   "outputs": [],
   "source": []
  },
  {
   "cell_type": "code",
   "execution_count": null,
   "id": "06957d29",
   "metadata": {},
   "outputs": [],
   "source": []
  },
  {
   "cell_type": "code",
   "execution_count": null,
   "id": "f598607c",
   "metadata": {},
   "outputs": [],
   "source": []
  }
 ],
 "metadata": {
  "kernelspec": {
   "display_name": "Python 3",
   "language": "python",
   "name": "python3"
  },
  "language_info": {
   "codemirror_mode": {
    "name": "ipython",
    "version": 3
   },
   "file_extension": ".py",
   "mimetype": "text/x-python",
   "name": "python",
   "nbconvert_exporter": "python",
   "pygments_lexer": "ipython3",
   "version": "3.8.8"
  }
 },
 "nbformat": 4,
 "nbformat_minor": 5
}
