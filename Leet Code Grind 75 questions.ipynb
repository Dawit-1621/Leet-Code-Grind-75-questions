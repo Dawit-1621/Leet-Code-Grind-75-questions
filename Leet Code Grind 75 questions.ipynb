{
 "cells": [
  {
   "cell_type": "markdown",
   "id": "662e807e",
   "metadata": {},
   "source": [
    "### Leet Code Grind 75 questions"
   ]
  },
  {
   "cell_type": "markdown",
   "id": "9da85173",
   "metadata": {},
   "source": [
    "#### 1. Two Sum <br>\n",
    "\n",
    "Given an array of integers `nums` and an integer `target`, return indices of the two numbers such that they add up to target.<br>\n",
    "You may assume that each input would have exactly one solution, and you may not use the same element twice. <br>\n",
    "You can return the answer in any order.<br>\n",
    "**Example 1:**<br>\n",
    "\n",
    "**Input:** nums = [2, 7, 11, 15], target = 9<br>\n",
    "**Output:** [0,1]<br>\n",
    "**Explanation:** Because nums[0] + nums[1] == 9, we return [0, 1].<br>\n",
    "\n",
    "**Example 2:**<br>\n",
    "\n",
    "**Input:** nums = [3, 2, 4], target = 6<br>\n",
    "**Output:** [1,2]<br>\n",
    "\n",
    "**Example 3:**<br>\n",
    "\n",
    "**Input:** nums = [3, 3], target = 6<br>\n",
    "**Output:** [0,1]<br>"
   ]
  },
  {
   "cell_type": "code",
   "execution_count": 1,
   "id": "0c4506bf",
   "metadata": {},
   "outputs": [
    {
     "data": {
      "text/plain": [
       "[1, 2]"
      ]
     },
     "execution_count": 1,
     "metadata": {},
     "output_type": "execute_result"
    }
   ],
   "source": [
    "def twoSum(nums, target):\n",
    "    preMap = {}\n",
    "    for i, n in enumerate (nums):\n",
    "        deff = target - n\n",
    "        if deff in preMap:\n",
    "            return [preMap[deff], i]\n",
    "        preMap[n] = i\n",
    "    return\n",
    "twoSum(nums = [3,2,4], target = 6)"
   ]
  },
  {
   "cell_type": "markdown",
   "id": "21b1d27c",
   "metadata": {},
   "source": [
    "**2. Best Time to Buy and Sell Stock** <br>\n",
    "You are given an array `prices` where `prices[i]` is the price of a given stock on the `ith` day.<br>\n",
    "You want to maximize your profit by choosing a single day to buy one stock and choosing a different day in the future to sell that stock.<br>\n",
    "\n",
    "Return the maximum profit you can achieve from this transaction. If you cannot achieve any profit, return 0.<br>\n",
    "**Example 1:**<br>\n",
    "**Input:** prices = [7,1,5,3,6,4] <br>\n",
    "**Output:** 5 <br>\n",
    "**Explanation:** Buy on day 2 (price = 1) and sell on day 5 (price = 6), profit = 6-1 = 5.<br>\n",
    "Note that buying on day 2 and selling on day 1 is not allowed because you must buy before you sell.<br>\n",
    "\n",
    "**Example 2:**<br>\n",
    "**Input:** prices = [7,6,4,3,1]<br>\n",
    "**Output:** 0<br>\n",
    "**Explanation:** In this case, no transactions are done and the max profit = 0.\n",
    "\n",
    "**Constraints:**<br>\n",
    "* 1 <= prices.length <= 10^5\n",
    "* 0 <= prices[i] <= 10^4"
   ]
  },
  {
   "cell_type": "code",
   "execution_count": 1,
   "id": "b951d66a",
   "metadata": {},
   "outputs": [
    {
     "data": {
      "text/plain": [
       "5"
      ]
     },
     "execution_count": 1,
     "metadata": {},
     "output_type": "execute_result"
    }
   ],
   "source": [
    "def maxProfit(prices):\n",
    "    buy = prices[0]\n",
    "    max_profite = 0\n",
    "    for i in range(len(prices)):\n",
    "        if buy > prices[i]:\n",
    "            buy = prices[i]\n",
    "        else:\n",
    "            if ((prices[i]-buy) > max_profite):\n",
    "                max_profite = prices[i] - buy\n",
    "    return max_profite\n",
    "prices = [7,1,5,3,6,4]\n",
    "maxProfit(prices)"
   ]
  },
  {
   "cell_type": "markdown",
   "id": "219e9ec8",
   "metadata": {},
   "source": [
    "**3. Contains Duplicate** <br>\n",
    "Given an integer array nums, return true if any value appears at least twice in the array, and return false if every element is distinct.<br>\n",
    "**Example 1:**<br>\n",
    "**Input:** nums = [1,2,3,1] <br>\n",
    "**Output:** true<br>\n",
    "\n",
    "**Example 2:**<br>\n",
    "**Input:** nums = [1,2,3,4]<br>\n",
    "**Output:** false<br>\n",
    "\n",
    "**Example 3:**<br>\n",
    "**Input:** nums = [1,1,1,3,3,4,3,2,4,2]<br>\n",
    "**Output:** true\n"
   ]
  },
  {
   "cell_type": "code",
   "execution_count": 2,
   "id": "26268909",
   "metadata": {},
   "outputs": [
    {
     "data": {
      "text/plain": [
       "True"
      ]
     },
     "execution_count": 2,
     "metadata": {},
     "output_type": "execute_result"
    }
   ],
   "source": [
    "def containsDuplicate(nums):\n",
    "    hasSet = set()\n",
    "    for i in nums:\n",
    "        if i in hasSet:\n",
    "            return True\n",
    "        hasSet.add(i)\n",
    "    return False\n",
    "nums = [1,1,1,3,3,4,3,2,4,2]\n",
    "containsDuplicate(nums)"
   ]
  },
  {
   "cell_type": "code",
   "execution_count": null,
   "id": "06957d29",
   "metadata": {},
   "outputs": [],
   "source": []
  },
  {
   "cell_type": "code",
   "execution_count": null,
   "id": "f598607c",
   "metadata": {},
   "outputs": [],
   "source": []
  }
 ],
 "metadata": {
  "kernelspec": {
   "display_name": "Python 3",
   "language": "python",
   "name": "python3"
  },
  "language_info": {
   "codemirror_mode": {
    "name": "ipython",
    "version": 3
   },
   "file_extension": ".py",
   "mimetype": "text/x-python",
   "name": "python",
   "nbconvert_exporter": "python",
   "pygments_lexer": "ipython3",
   "version": "3.8.8"
  }
 },
 "nbformat": 4,
 "nbformat_minor": 5
}
